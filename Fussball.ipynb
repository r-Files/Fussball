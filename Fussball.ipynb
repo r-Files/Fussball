{
 "cells": [
  {
   "cell_type": "code",
   "execution_count": null,
   "metadata": {},
   "outputs": [],
   "source": [
    "library(data.table)\n",
    "library(rvest)\n",
    "library(magrittr)\n",
    "library(stringr)"
   ]
  },
  {
   "cell_type": "code",
   "execution_count": null,
   "metadata": {},
   "outputs": [],
   "source": [
    "url <- \"https://www.weltfussball.de/alle_spiele/bundesliga-2018-2019/\"\n",
    "\n",
    "content <- read_html(url)"
   ]
  },
  {
   "cell_type": "code",
   "execution_count": null,
   "metadata": {},
   "outputs": [],
   "source": [
    "Spieldatum <- content %>%\n",
    "  html_nodes(\".portfolio .standard_tabelle\") %>%\n",
    "  html_nodes(\"td:nth-of-type(1)\") %>% # get first column of table\n",
    "  html_text()\n",
    "\n",
    "Spieldatum %>% head()"
   ]
  },
  {
   "cell_type": "code",
   "execution_count": null,
   "metadata": {},
   "outputs": [],
   "source": [
    "Heimteam <- content %>%\n",
    "  html_nodes(\".portfolio .standard_tabelle\") %>%\n",
    "  html_nodes(\"td:nth-of-type(3)\") %>% # get third column of table\n",
    "  html_text()\n",
    "\n",
    "Heimteam %>% head()"
   ]
  },
  {
   "cell_type": "code",
   "execution_count": null,
   "metadata": {},
   "outputs": [],
   "source": [
    "Heimteam <- Heimteam %>% str_replace_all(\" \", \"\") \n",
    "\n",
    "Heimteam %>% head()"
   ]
  },
  {
   "cell_type": "code",
   "execution_count": null,
   "metadata": {},
   "outputs": [],
   "source": [
    "Austeam <- content %>%\n",
    "  html_nodes(\".portfolio .standard_tabelle\") %>%\n",
    "  html_nodes(\"td:nth-of-type(5)\") %>% # get fifth column of table\n",
    "  html_text()\n",
    "\n",
    "Austeam %>% head()"
   ]
  },
  {
   "cell_type": "code",
   "execution_count": null,
   "metadata": {},
   "outputs": [],
   "source": [
    "Austeam <- Austeam %>% str_replace_all(\" \", \"\")\n",
    "\n",
    "Austeam %>% head()"
   ]
  },
  {
   "cell_type": "code",
   "execution_count": null,
   "metadata": {},
   "outputs": [],
   "source": [
    "Ergebnis <- content %>%\n",
    "  html_nodes(\".portfolio .standard_tabelle\") %>%\n",
    "  html_nodes(\"td:nth-of-type(6)\") %>% # get sixth column of table\n",
    "  html_node(\"a\") %>% \n",
    "  html_text()\n",
    "\n",
    "Ergebnis %>% head()"
   ]
  },
  {
   "cell_type": "code",
   "execution_count": null,
   "metadata": {},
   "outputs": [],
   "source": [
    "Ergebnis <- Ergebnis %>% str_extract(\"^\\\\d+:\\\\d+\")\n",
    "\n",
    "Ergebnis %>% head()"
   ]
  },
  {
   "cell_type": "code",
   "execution_count": null,
   "metadata": {},
   "outputs": [],
   "source": [
    "resultTable <- data.table(Spieldatum,\n",
    "                          Heimteam, \n",
    "                          Austeam,\n",
    "                          Ergebnis)\n",
    "\n",
    "resultTable %>% head()"
   ]
  },
  {
   "cell_type": "code",
   "execution_count": null,
   "metadata": {},
   "outputs": [],
   "source": [
    "# fill the missing dates with the previous ones.\n",
    "resultTable[, Spieldatum := Spieldatum[1], .(cumsum(Spieldatum != \"\"))]\n",
    "\n",
    "resultTable %>% head()"
   ]
  },
  {
   "cell_type": "code",
   "execution_count": null,
   "metadata": {},
   "outputs": [],
   "source": [
    "# split the date into 3 columns\n",
    "resultTable[, c(\"Tag\", \"Monat\", \"Jahr\") := tstrsplit(Spieldatum, \".\", fixed = TRUE)]\n",
    "\n",
    "resultTable %>% head()"
   ]
  },
  {
   "cell_type": "code",
   "execution_count": null,
   "metadata": {},
   "outputs": [],
   "source": [
    "# split the result into 2 columns\n",
    "resultTable[, c(\"Heim\", \"Aus\") := tstrsplit(Ergebnis, \":\", fixed = TRUE)]\n",
    "\n",
    "resultTable %>% head()"
   ]
  },
  {
   "cell_type": "code",
   "execution_count": null,
   "metadata": {},
   "outputs": [],
   "source": [
    "# add the dummy column \"Bericht\" to make the data readable in Excel\n",
    "resultTable[, Bericht := \"Bericht\"]\n",
    "\n",
    "resultTable %>% head()"
   ]
  }
 ],
 "metadata": {
  "kernelspec": {
   "display_name": "R",
   "language": "R",
   "name": "ir"
  },
  "language_info": {
   "codemirror_mode": "r",
   "file_extension": ".r",
   "mimetype": "text/x-r-source",
   "name": "R",
   "pygments_lexer": "r",
   "version": "3.6.0"
  }
 },
 "nbformat": 4,
 "nbformat_minor": 2
}
